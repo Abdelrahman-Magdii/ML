{
 "cells": [
  {
   "cell_type": "code",
   "execution_count": 1,
   "id": "d9493583-fd56-46f6-9f69-2281442b0c94",
   "metadata": {},
   "outputs": [],
   "source": [
    "import numpy as np\n",
    "import pandas as pd\n",
    "import matplotlib as plt"
   ]
  },
  {
   "cell_type": "code",
   "execution_count": 4,
   "id": "aeb74fe0-ba96-4b23-9d85-6062fa5193df",
   "metadata": {},
   "outputs": [
    {
     "data": {
      "text/html": [
       "<div>\n",
       "<style scoped>\n",
       "    .dataframe tbody tr th:only-of-type {\n",
       "        vertical-align: middle;\n",
       "    }\n",
       "\n",
       "    .dataframe tbody tr th {\n",
       "        vertical-align: top;\n",
       "    }\n",
       "\n",
       "    .dataframe thead th {\n",
       "        text-align: right;\n",
       "    }\n",
       "</style>\n",
       "<table border=\"1\" class=\"dataframe\">\n",
       "  <thead>\n",
       "    <tr style=\"text-align: right;\">\n",
       "      <th></th>\n",
       "      <th>IS_top_5_league</th>\n",
       "      <th>Based_rich_nation</th>\n",
       "      <th>Is_top_ranked_nation</th>\n",
       "      <th>EU_National</th>\n",
       "      <th>Caps</th>\n",
       "      <th>Apps</th>\n",
       "      <th>Age</th>\n",
       "      <th>Reputation</th>\n",
       "      <th>Is_top_prev_club</th>\n",
       "      <th>Last_Transfer_Fee</th>\n",
       "      <th>Salary</th>\n",
       "    </tr>\n",
       "  </thead>\n",
       "  <tbody>\n",
       "    <tr>\n",
       "      <th>0</th>\n",
       "      <td>0</td>\n",
       "      <td>1</td>\n",
       "      <td>2</td>\n",
       "      <td>1</td>\n",
       "      <td>200.0</td>\n",
       "      <td>673</td>\n",
       "      <td>38.0</td>\n",
       "      <td>7629.0</td>\n",
       "      <td>0</td>\n",
       "      <td>0</td>\n",
       "      <td>203478000.0</td>\n",
       "    </tr>\n",
       "    <tr>\n",
       "      <th>1</th>\n",
       "      <td>0</td>\n",
       "      <td>1</td>\n",
       "      <td>2</td>\n",
       "      <td>1</td>\n",
       "      <td>97.0</td>\n",
       "      <td>555</td>\n",
       "      <td>35.0</td>\n",
       "      <td>8250.0</td>\n",
       "      <td>0</td>\n",
       "      <td>0</td>\n",
       "      <td>199452000.0</td>\n",
       "    </tr>\n",
       "    <tr>\n",
       "      <th>2</th>\n",
       "      <td>0</td>\n",
       "      <td>1</td>\n",
       "      <td>2</td>\n",
       "      <td>1</td>\n",
       "      <td>124.0</td>\n",
       "      <td>340</td>\n",
       "      <td>31.0</td>\n",
       "      <td>9000.0</td>\n",
       "      <td>1</td>\n",
       "      <td>0</td>\n",
       "      <td>149589000.0</td>\n",
       "    </tr>\n",
       "    <tr>\n",
       "      <th>3</th>\n",
       "      <td>0</td>\n",
       "      <td>1</td>\n",
       "      <td>2</td>\n",
       "      <td>0</td>\n",
       "      <td>0.0</td>\n",
       "      <td>245</td>\n",
       "      <td>25.0</td>\n",
       "      <td>7414.0</td>\n",
       "      <td>0</td>\n",
       "      <td>0</td>\n",
       "      <td>74157000.0</td>\n",
       "    </tr>\n",
       "    <tr>\n",
       "      <th>4</th>\n",
       "      <td>1</td>\n",
       "      <td>1</td>\n",
       "      <td>2</td>\n",
       "      <td>1</td>\n",
       "      <td>70.0</td>\n",
       "      <td>221</td>\n",
       "      <td>24.0</td>\n",
       "      <td>9415.0</td>\n",
       "      <td>0</td>\n",
       "      <td>0</td>\n",
       "      <td>48467000.0</td>\n",
       "    </tr>\n",
       "  </tbody>\n",
       "</table>\n",
       "</div>"
      ],
      "text/plain": [
       "   IS_top_5_league  Based_rich_nation  Is_top_ranked_nation  EU_National  \\\n",
       "0                0                  1                     2            1   \n",
       "1                0                  1                     2            1   \n",
       "2                0                  1                     2            1   \n",
       "3                0                  1                     2            0   \n",
       "4                1                  1                     2            1   \n",
       "\n",
       "    Caps  Apps   Age  Reputation  Is_top_prev_club  Last_Transfer_Fee  \\\n",
       "0  200.0   673  38.0      7629.0                 0                  0   \n",
       "1   97.0   555  35.0      8250.0                 0                  0   \n",
       "2  124.0   340  31.0      9000.0                 1                  0   \n",
       "3    0.0   245  25.0      7414.0                 0                  0   \n",
       "4   70.0   221  24.0      9415.0                 0                  0   \n",
       "\n",
       "        Salary  \n",
       "0  203478000.0  \n",
       "1  199452000.0  \n",
       "2  149589000.0  \n",
       "3   74157000.0  \n",
       "4   48467000.0  "
      ]
     },
     "execution_count": 4,
     "metadata": {},
     "output_type": "execute_result"
    }
   ],
   "source": [
    "data = pd.read_csv('./DatasetCleaning.csv')\n",
    "\n",
    "x=data.iloc[:,:-1].values\n",
    "y=data.iloc[:,-1].values\n",
    "\n",
    "data.head()"
   ]
  },
  {
   "cell_type": "markdown",
   "id": "b5ddd260-9b0a-428c-802c-a04c06c7be04",
   "metadata": {},
   "source": [
    "## # Split the dataset into features (X) and target variable (y)"
   ]
  },
  {
   "cell_type": "code",
   "execution_count": null,
   "id": "b0f71714-295a-4d00-bfbe-fbe514e30eb1",
   "metadata": {},
   "outputs": [],
   "source": [
    "from sklearn."
   ]
  }
 ],
 "metadata": {
  "kernelspec": {
   "display_name": "Python 3 (ipykernel)",
   "language": "python",
   "name": "python3"
  },
  "language_info": {
   "codemirror_mode": {
    "name": "ipython",
    "version": 3
   },
   "file_extension": ".py",
   "mimetype": "text/x-python",
   "name": "python",
   "nbconvert_exporter": "python",
   "pygments_lexer": "ipython3",
   "version": "3.12.2"
  },
  "widgets": {
   "application/vnd.jupyter.widget-state+json": {
    "state": {},
    "version_major": 2,
    "version_minor": 0
   }
  }
 },
 "nbformat": 4,
 "nbformat_minor": 5
}
